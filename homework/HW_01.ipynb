{
 "cells": [
  {
   "cell_type": "markdown",
   "id": "d9199453",
   "metadata": {},
   "source": [
    "# Homework 01\n",
    "## Keith Wampler"
   ]
  },
  {
   "cell_type": "code",
   "execution_count": 1,
   "id": "3b78f44f",
   "metadata": {},
   "outputs": [
    {
     "name": "stdout",
     "output_type": "stream",
     "text": [
      "Today's date is: 2025-10-08\n"
     ]
    }
   ],
   "source": [
    "from datetime import date\n",
    "\n",
    "todays_date = date.today()\n",
    "\n",
    "# Pass the string and the variable to print() as two separate arguments\n",
    "print(\"Today's date is:\", todays_date)"
   ]
  }
 ],
 "metadata": {
  "kernelspec": {
   "display_name": "Python 3",
   "language": "python",
   "name": "python3"
  },
  "language_info": {
   "codemirror_mode": {
    "name": "ipython",
    "version": 3
   },
   "file_extension": ".py",
   "mimetype": "text/x-python",
   "name": "python",
   "nbconvert_exporter": "python",
   "pygments_lexer": "ipython3",
   "version": "3.13.7"
  }
 },
 "nbformat": 4,
 "nbformat_minor": 5
}
