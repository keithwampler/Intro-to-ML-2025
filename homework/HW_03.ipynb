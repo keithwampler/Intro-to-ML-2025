{
 "cells": [
  {
   "cell_type": "markdown",
   "id": "3bd35259",
   "metadata": {},
   "source": [
    "# Homework 03\n",
    "## Keith Wampler\n",
    "#### AI Tool Used: Gemini 2.5 Pro "
   ]
  }
 ],
 "metadata": {
  "language_info": {
   "name": "python"
  }
 },
 "nbformat": 4,
 "nbformat_minor": 5
}
